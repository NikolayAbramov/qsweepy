{
 "cells": [
  {
   "cell_type": "code",
   "execution_count": 1,
   "metadata": {
    "ExecuteTime": {
     "end_time": "2023-02-13T00:13:42.478426Z",
     "start_time": "2023-02-13T00:13:41.090069Z"
    }
   },
   "outputs": [
    {
     "name": "stdout",
     "output_type": "stream",
     "text": [
      "Failed loading module Keysight_M3102A:  No module named 'keysightSD1'\n",
      "Failed loading module Keysight_M3202A:  No module named 'keysightSD1'\n",
      "Failed loading module Labbrick:  [WinError 126] Не найден указанный модуль\n",
      "Failed loading module ziUHF:  cannot import name 'ZIDevice' from 'qsweepy.instrument_drivers.zihdawg' (D:/My_python_libs/qsweepy\\qsweepy\\instrument_drivers\\zihdawg.py)\n"
     ]
    }
   ],
   "source": [
    "import sys, os\n",
    "import imp\n",
    "import time\n",
    "\n",
    "sys.path.insert(0,\"D:/My_python_libs/qsweepy\")\n",
    "\n",
    "from numpy import *\n",
    "from importlib import reload\n",
    "from matplotlib.pyplot import *\n",
    "\n",
    "import qsweepy.libraries.instruments as instruments\n",
    "from qsweepy.instrument_drivers._QubitDAQ.reg_intf import *\n",
    "from qsweepy.instrument_drivers._QubitDAQ.usb_intf import *\n",
    "import qsweepy.instrument_drivers._QubitDAQ.driver as drv"
   ]
  },
  {
   "cell_type": "markdown",
   "metadata": {},
   "source": [
    "## Connect to the DAQ board"
   ]
  },
  {
   "cell_type": "code",
   "execution_count": 9,
   "metadata": {
    "ExecuteTime": {
     "end_time": "2023-02-13T00:16:13.484312Z",
     "start_time": "2023-02-13T00:16:13.078439Z"
    }
   },
   "outputs": [
    {
     "name": "stdout",
     "output_type": "stream",
     "text": [
      "ADS54J40 already programmed\n"
     ]
    }
   ],
   "source": [
    "try: del adc\n",
    "except: pass\n",
    "\"\"\"Use serial number string to identify the device. You can find the serial number in the USB device descriptor which can be\n",
    "accessed using libusb Test utility or Windows Device Manager or other tool. The device name is \"Cypress FX3 USB StreamerExample\n",
    "Device\", vendor ID is 0x04b4 and product ID is 0x00f1\"\"\"\n",
    "adc = drv.Device(\"0009052001481708\")"
   ]
  },
  {
   "cell_type": "markdown",
   "metadata": {},
   "source": [
    "## Run data acquisition"
   ]
  },
  {
   "cell_type": "code",
   "execution_count": 36,
   "metadata": {
    "ExecuteTime": {
     "end_time": "2023-02-13T01:17:19.796622Z",
     "start_time": "2023-02-13T01:17:18.945372Z"
    }
   },
   "outputs": [
    {
     "data": {
      "text/plain": [
       "True"
      ]
     },
     "execution_count": 36,
     "metadata": {},
     "output_type": "execute_result"
    }
   ],
   "source": [
    "\"\"\"Set the number of samples. Make shure it's not higher than 8192 if you want to use hardware averaging and dot product \n",
    "calculation. Otherwice raw data will be still captured in DDR3 memory, but dot products and averaged data will be incorrect.\n",
    "The number of samples must be divisible by 8.\"\"\"\n",
    "adc.nsamp = 8192\n",
    "\"\"\"Set number of segments\"\"\"\n",
    "adc.nsegm = 10000\n",
    "\"\"\"Choose trigger mode external \"ext\" or manual \"man\" \"\"\"\n",
    "adc.trig_mode = \"ext\"\n",
    "\"\"\"Dta aquisition start can be delayed relative to the trigger.\"\"\"\n",
    "adc.set_trig_delay(200e-9)\n",
    "\"\"\"Setup trigger generator. Output of this generator TRIG OUT A must be connected to the external trigger input TRIG IN and\n",
    "also feed as a signal to one of  the signal inputs via 10 dB attenuator.\"\"\"\n",
    "adc.set_trig_src_period(10000)\n",
    "adc.set_trig_src_width( 200)\n",
    "\"\"\"Start data acquisition. This function will work only with an external trigger\"\"\"\n",
    "adc.start_wait_done()"
   ]
  },
  {
   "cell_type": "markdown",
   "metadata": {},
   "source": [
    "## Get captured data from DDR3 memory"
   ]
  },
  {
   "cell_type": "code",
   "execution_count": 44,
   "metadata": {
    "ExecuteTime": {
     "end_time": "2023-02-13T01:22:10.809224Z",
     "start_time": "2023-02-13T01:22:08.130323Z"
    }
   },
   "outputs": [
    {
     "name": "stdout",
     "output_type": "stream",
     "text": [
      "Load time: 2.555225e+00 s\n"
     ]
    },
    {
     "data": {
      "text/plain": [
       "[<matplotlib.lines.Line2D at 0x233011a02c8>]"
      ]
     },
     "execution_count": 44,
     "metadata": {},
     "output_type": "execute_result"
    },
    {
     "data": {
      "image/png": "[encoded data removed]",
      "text/plain": [
       "<Figure size 432x288 with 1 Axes>"
      ]
     },
     "metadata": {
      "needs_background": "light"
     },
     "output_type": "display_data"
    }
   ],
   "source": [
    "t1 = time.time()\n",
    "rd_data = adc.get_data()\n",
    "t2 = time.time()\n",
    "print(\"Load time: {:e} s\".format(t2-t1))\n",
    "#Plot only first segment \n",
    "plot(rd_data[0].real.T)\n",
    "plot(rd_data[0].imag.T)"
   ]
  },
  {
   "cell_type": "markdown",
   "metadata": {},
   "source": [
    "## Get averaged over segments data"
   ]
  },
  {
   "cell_type": "code",
   "execution_count": 46,
   "metadata": {
    "ExecuteTime": {
     "end_time": "2023-02-13T01:23:20.713008Z",
     "start_time": "2023-02-13T01:23:20.600996Z"
    }
   },
   "outputs": [
    {
     "name": "stdout",
     "output_type": "stream",
     "text": [
      "Load time: 1.995325e-03 s\n"
     ]
    },
    {
     "data": {
      "text/plain": [
       "[<matplotlib.lines.Line2D at 0x23301123748>]"
      ]
     },
     "execution_count": 46,
     "metadata": {},
     "output_type": "execute_result"
    },
    {
     "data": {
      "image/png": "[encoded data removed]",
      "text/plain": [
       "<Figure size 432x288 with 1 Axes>"
      ]
     },
     "metadata": {
      "needs_background": "light"
     },
     "output_type": "display_data"
    }
   ],
   "source": [
    "t1 = time.time()\n",
    "aver_data = adc.get_averaged_data()\n",
    "t2 = time.time()\n",
    "print(\"Load time: {:e} s\".format(t2-t1))\n",
    "plot(aver_data.real)\n",
    "plot(aver_data.imag)"
   ]
  },
  {
   "cell_type": "markdown",
   "metadata": {},
   "source": [
    "## Load feature into the device"
   ]
  },
  {
   "cell_type": "code",
   "execution_count": 33,
   "metadata": {
    "ExecuteTime": {
     "end_time": "2023-02-13T01:16:02.271882Z",
     "start_time": "2023-02-13T01:16:02.234957Z"
    }
   },
   "outputs": [],
   "source": [
    "feature = rd_data[0]\n",
    "adc.set_feature(feature, 0)\n",
    "adc.set_feature(feature, 1)\n",
    "adc.set_feature(feature, 2)\n",
    "adc.set_feature(feature, 3)"
   ]
  },
  {
   "cell_type": "markdown",
   "metadata": {},
   "source": [
    "## Read dot products and verify"
   ]
  },
  {
   "cell_type": "markdown",
   "metadata": {},
   "source": [
    "Re run step 2 to get valueble data on this stage"
   ]
  },
  {
   "cell_type": "code",
   "execution_count": 42,
   "metadata": {
    "ExecuteTime": {
     "end_time": "2023-02-13T01:18:57.444487Z",
     "start_time": "2023-02-13T01:18:54.123866Z"
    }
   },
   "outputs": [
    {
     "name": "stdout",
     "output_type": "stream",
     "text": [
      "Dot products:\n",
      " [[6953027595 6953027595 6953027595 6953027595]\n",
      " [6953260213 6953260213 6953260213 6953260213]\n",
      " [6954411933 6954411933 6954411933 6954411933]\n",
      " ...\n",
      " [6954130159 6954130159 6954130159 6954130159]\n",
      " [6954966362 6954966362 6954966362 6954966362]\n",
      " [6953619060 6953619060 6953619060 6953619060]]\n",
      "\n",
      "Averaged dot products:\n",
      "[6.95338773e+09 6.95338773e+09 6.95338773e+09 6.95338773e+09]\n",
      "\n",
      "Calculated dot products:\n",
      "[6953027595 6953260213 6954411933 ... 6954130159 6954966362 6953619060]\n",
      "\n",
      "States:\n",
      " [[1 1 1 1]\n",
      " [1 1 1 1]\n",
      " [1 1 1 1]\n",
      " ...\n",
      " [1 1 1 1]\n",
      " [1 1 1 1]\n",
      " [1 1 1 1]]\n"
     ]
    }
   ],
   "source": [
    "\"\"\"Read dot product values. Number of rows corresponds to the number of segments and columns are correspond to \n",
    "4 state discrimination channels\"\"\"\n",
    "dot_prod = adc.get_dot_prods()\n",
    "print(\"Dot products:\\n\", dot_prod)\n",
    "\n",
    "\"\"\"Read averaged over segments dot products\"\"\"\n",
    "print(\"\\nAveraged dot products:\")\n",
    "print(adc.get_dot_prod_ave() )\n",
    "\n",
    "\"\"\"Read raw data from DDR3 memory and calculate dot products with reature\"\"\"\n",
    "def dot_calc(data, feature):\n",
    "    feature_max = np.max(np.abs(feature))\n",
    "    if feature_max !=0:\n",
    "        feature = 2**(14-1) * feature/feature_max\n",
    "    res = zeros(len(data), dtype = int64)\n",
    "    for i,d in enumerate(data):\n",
    "        #d=d[8:]\n",
    "        res[i] = int64(sum(d.real * int16(feature.real))+ sum(d.imag * int16(feature.imag)))\n",
    "    return res\n",
    "\"\"\"Verify that the result is the same as the hardware calculated values\"\"\"\n",
    "print(\"\\nCalculated dot products:\")\n",
    "print(dot_calc(adc.get_data(), feature))\n",
    "\n",
    "\"\"\"Set thresholds. Just any values.\"\"\"\n",
    "adc.threshold[0]=6922839697\n",
    "adc.threshold[1]=6922839697-1\n",
    "adc.threshold[2]=6922839697-2\n",
    "adc.threshold[3]=6922839697-3\n",
    "\"\"\"Get discriminated states using the above thresholds\"\"\"\n",
    "print(\"\\nStates:\\n\", adc.get_states())"
   ]
  },
  {
   "cell_type": "code",
   "execution_count": null,
   "metadata": {},
   "outputs": [],
   "source": []
  }
 ],
 "metadata": {
  "kernelspec": {
   "display_name": "Python 3",
   "language": "python",
   "name": "python3"
  },
  "language_info": {
   "codemirror_mode": {
    "name": "ipython",
    "version": 3
   },
   "file_extension": ".py",
   "mimetype": "text/x-python",
   "name": "python",
   "nbconvert_exporter": "python",
   "pygments_lexer": "ipython3",
   "version": "3.7.6"
  },
  "toc": {
   "base_numbering": 1,
   "nav_menu": {},
   "number_sections": true,
   "sideBar": true,
   "skip_h1_title": false,
   "title_cell": "Table of Contents",
   "title_sidebar": "Contents",
   "toc_cell": false,
   "toc_position": {},
   "toc_section_display": true,
   "toc_window_display": false
  }
 },
 "nbformat": 4,
 "nbformat_minor": 4
}
